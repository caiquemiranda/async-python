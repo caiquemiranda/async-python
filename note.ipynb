{
 "cells": [
  {
   "cell_type": "code",
   "execution_count": 13,
   "metadata": {},
   "outputs": [],
   "source": [
    "import asyncio\n",
    "import MetaTrader5 as mt5\n",
    "import random"
   ]
  },
  {
   "cell_type": "code",
   "execution_count": 22,
   "metadata": {},
   "outputs": [
    {
     "data": {
      "text/plain": [
       "True"
      ]
     },
     "execution_count": 22,
     "metadata": {},
     "output_type": "execute_result"
    }
   ],
   "source": [
    "mt5.initialize()"
   ]
  },
  {
   "cell_type": "code",
   "execution_count": 17,
   "metadata": {},
   "outputs": [],
   "source": [
    "symbol = \"USDJPY\"\n",
    "lot = 0.01\n",
    "point = mt5.symbol_info(symbol).point\n",
    "price = mt5.symbol_info_tick(symbol).ask\n",
    "desvio = 10"
   ]
  },
  {
   "cell_type": "code",
   "execution_count": 20,
   "metadata": {},
   "outputs": [],
   "source": [
    "request = {\n",
    "    \"action\": mt5.TRADE_ACTION_DEAL,\n",
    "    \"symbol\": symbol,\n",
    "    \"volume\": lot,\n",
    "    \"type\": mt5.ORDER_TYPE_BUY,\n",
    "    \"price\": price,\n",
    "    \"sl\": price - 100 * point,\n",
    "    \"tp\": price + 100 * point,\n",
    "    \"deviation\": desvio,\n",
    "    \"magic\": random.randint(0, 100000),\n",
    "    \"comment\": \"teste\",\n",
    "    \"type_time\": mt5.ORDER_TIME_GTC,\n",
    "    \"type_filling\": mt5.ORDER_FILLING_IOC,\n",
    "}"
   ]
  },
  {
   "cell_type": "code",
   "execution_count": 15,
   "metadata": {},
   "outputs": [],
   "source": [
    "symbols = mt5.symbols_get()\n",
    "symbol_names = [s.name for s in symbols]"
   ]
  },
  {
   "cell_type": "code",
   "execution_count": 16,
   "metadata": {},
   "outputs": [
    {
     "name": "stdout",
     "output_type": "stream",
     "text": [
      "['EURUSD', 'GBPUSD', 'USDCHF', 'USDJPY', 'USDCNH', 'USDRUB', 'AUDUSD', 'NZDUSD', 'USDCAD', 'USDSEK', 'USDHKD', 'USDSGD', 'USDNOK', 'USDDKK', 'USDTRY', 'USDZAR', 'USDCZK', 'USDHUF', 'USDPLN', 'USDRUR', 'AUDCAD', 'AUDCHF', 'AUDJPY', 'AUDNZD', 'CADCHF', 'CADJPY', 'CHFJPY', 'EURAUD', 'EURCAD', 'EURCHF', 'EURCZK', 'EURDKK', 'EURGBP', 'EURHKD', 'EURHUF', 'EURJPY', 'EURNOK', 'EURNZD', 'EURPLN', 'EURRUR', 'EURRUB', 'EURSEK', 'EURTRY', 'EURZAR', 'GBPAUD', 'GBPCHF', 'GBPJPY', 'XAUUSD', 'XAUEUR', 'XAUAUD', 'XAGUSD', 'XAGEUR', 'GBPCAD', 'USDCRE', 'GBPNOK', 'GBPNZD', 'GBPPLN', 'GBPSEK', 'GBPSGD', 'GBPZAR', 'NZDCAD', 'NZDCHF', 'NZDJPY', 'NZDSGD', 'SGDJPY', 'XPDUSD', 'XPTUSD', 'USDGEL', 'USDMXN', 'EURMXN', 'GBPMXN', 'CADMXN', 'CHFMXN', 'MXNJPY', 'NZDMXN', 'USDCOP', 'USDARS', 'USDCLP', 'AUS200', 'FCHI40', 'GDAXIm', 'HSI50', 'ND100m', 'NI225', 'SP500m', 'SPN35', 'STOX50', 'UK100', 'AUDSEK', 'EURSGD', 'GBPCZK', 'GBPDKK', 'GBPHUF', 'GBPTRY', 'NOKSEK', 'USDILS', 'ZARJPY', 'AUDDKK', 'AUDNOK', 'AUDPLN', 'AUDSGD', 'AUDZAR', 'CADNOK', 'CADPLN', 'CHFDKK', 'CHFNOK', 'CHFPLN', 'CHFSEK', 'CHFSGD', 'CHFTRY', 'CHFZAR', 'DKKJPY', 'HKDJPY', 'NOKDKK', 'NOKJPY', 'NZDDKK', 'NZDNOK', 'NZDSEK', 'PLNJPY', 'SEKJPY', 'SGDHKD', 'TRYJPY', 'USDTHB', 'USDRMB', 'AUDHUF', 'CHFHUF', 'EURILS', 'NZDHUF', 'AUDHKD', 'AUDTHB', 'CADSGD', 'DKKSEK', 'SEKNOK', 'CADDKK', 'CADSEK', 'CNHJPY', 'DKKNOK', 'EURCNH', 'GBPHKD', 'USDBRL']\n"
     ]
    }
   ],
   "source": [
    "print(symbol_names)"
   ]
  },
  {
   "cell_type": "code",
   "execution_count": 24,
   "metadata": {},
   "outputs": [
    {
     "name": "stdout",
     "output_type": "stream",
     "text": [
      "Erro ao enviar ordem: 10016\n"
     ]
    }
   ],
   "source": [
    "result = mt5.order_send(request)\n",
    "if result.retcode != mt5.TRADE_RETCODE_DONE:\n",
    "    print(\"Erro ao enviar ordem:\", result.retcode)\n",
    "else:\n",
    "    print(\"Ordem enviada com sucesso\")"
   ]
  },
  {
   "cell_type": "code",
   "execution_count": 23,
   "metadata": {},
   "outputs": [
    {
     "data": {
      "text/plain": [
       "OrderSendResult(retcode=10016, deal=0, order=0, volume=0.0, price=0.0, bid=0.0, ask=0.0, comment='Invalid stops', request_id=0, retcode_external=0, request=TradeRequest(action=1, magic=10657, order=0, symbol='USDJPY', volume=0.01, price=146.923, stoplimit=0.0, sl=146.823, tp=147.023, deviation=10, type=0, type_filling=1, type_time=0, expiration=0, comment='teste', position=0, position_by=0))"
      ]
     },
     "execution_count": 23,
     "metadata": {},
     "output_type": "execute_result"
    }
   ],
   "source": [
    "mt5.order_send(request)"
   ]
  },
  {
   "cell_type": "code",
   "execution_count": null,
   "metadata": {},
   "outputs": [],
   "source": []
  }
 ],
 "metadata": {
  "kernelspec": {
   "display_name": "Python 3",
   "language": "python",
   "name": "python3"
  },
  "language_info": {
   "codemirror_mode": {
    "name": "ipython",
    "version": 3
   },
   "file_extension": ".py",
   "mimetype": "text/x-python",
   "name": "python",
   "nbconvert_exporter": "python",
   "pygments_lexer": "ipython3",
   "version": "3.10.5"
  }
 },
 "nbformat": 4,
 "nbformat_minor": 2
}
